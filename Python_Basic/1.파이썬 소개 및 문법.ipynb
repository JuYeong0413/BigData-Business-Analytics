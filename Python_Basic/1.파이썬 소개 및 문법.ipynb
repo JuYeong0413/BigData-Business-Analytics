{
 "cells": [
  {
   "cell_type": "markdown",
   "metadata": {},
   "source": [
    "# Section 1. 변수에 대한 이해\n",
    "## Section 1.1 : 변수"
   ]
  },
  {
   "cell_type": "code",
   "execution_count": 1,
   "metadata": {},
   "outputs": [
    {
     "name": "stdout",
     "output_type": "stream",
     "text": [
      "2\n"
     ]
    }
   ],
   "source": [
    "temp = 2\n",
    "print(temp)"
   ]
  },
  {
   "cell_type": "markdown",
   "metadata": {},
   "source": [
    "## Section 1.2 : 숫자"
   ]
  },
  {
   "cell_type": "markdown",
   "metadata": {},
   "source": [
    "- 숫자의 사칙연산"
   ]
  },
  {
   "cell_type": "code",
   "execution_count": 3,
   "metadata": {},
   "outputs": [
    {
     "name": "stdout",
     "output_type": "stream",
     "text": [
      "10\n",
      "4\n",
      "21\n",
      "2.3333333333333335\n"
     ]
    }
   ],
   "source": [
    "## 사칙연산\n",
    "a = 7\n",
    "b = 3\n",
    "print(a+b)\n",
    "print(a-b)\n",
    "print(a*b)\n",
    "print(a/b)"
   ]
  },
  {
   "cell_type": "markdown",
   "metadata": {},
   "source": [
    "- 몫 //"
   ]
  },
  {
   "cell_type": "code",
   "execution_count": 8,
   "metadata": {},
   "outputs": [
    {
     "name": "stdout",
     "output_type": "stream",
     "text": [
      "2\n"
     ]
    }
   ],
   "source": [
    "## 몫 \"//\"\n",
    "print(a//b)"
   ]
  },
  {
   "cell_type": "markdown",
   "metadata": {},
   "source": [
    "- 나머지\"%\""
   ]
  },
  {
   "cell_type": "code",
   "execution_count": 9,
   "metadata": {},
   "outputs": [
    {
     "name": "stdout",
     "output_type": "stream",
     "text": [
      "1\n"
     ]
    }
   ],
   "source": [
    "#### 나머지 '%'\n",
    "print(a%b)"
   ]
  },
  {
   "cell_type": "markdown",
   "metadata": {},
   "source": [
    "- 지수 \"**\""
   ]
  },
  {
   "cell_type": "code",
   "execution_count": 10,
   "metadata": {},
   "outputs": [
    {
     "name": "stdout",
     "output_type": "stream",
     "text": [
      "343\n"
     ]
    }
   ],
   "source": [
    "## 지수 '**'\n",
    "print(a**b)"
   ]
  },
  {
   "cell_type": "markdown",
   "metadata": {},
   "source": [
    "## Section 1.2 문자열"
   ]
  },
  {
   "cell_type": "markdown",
   "metadata": {},
   "source": [
    "- 문자열"
   ]
  },
  {
   "cell_type": "code",
   "execution_count": 11,
   "metadata": {},
   "outputs": [
    {
     "data": {
      "text/plain": [
       "'python is easy'"
      ]
     },
     "execution_count": 11,
     "metadata": {},
     "output_type": "execute_result"
    }
   ],
   "source": [
    "#### 문자열 할당\n",
    "temp = 'python is easy'\n",
    "temp"
   ]
  },
  {
   "cell_type": "code",
   "execution_count": 12,
   "metadata": {},
   "outputs": [
    {
     "name": "stdout",
     "output_type": "stream",
     "text": [
      "python is easy\n"
     ]
    }
   ],
   "source": [
    "print(temp)"
   ]
  },
  {
   "cell_type": "markdown",
   "metadata": {},
   "source": [
    "- 문자열의 길이 len()"
   ]
  },
  {
   "cell_type": "code",
   "execution_count": 13,
   "metadata": {},
   "outputs": [
    {
     "data": {
      "text/plain": [
       "14"
      ]
     },
     "execution_count": 13,
     "metadata": {},
     "output_type": "execute_result"
    }
   ],
   "source": [
    "len(temp)"
   ]
  },
  {
   "cell_type": "markdown",
   "metadata": {},
   "source": [
    "- 문자열의 결합"
   ]
  },
  {
   "cell_type": "code",
   "execution_count": 15,
   "metadata": {},
   "outputs": [
    {
     "data": {
      "text/plain": [
       "'pythonis easy'"
      ]
     },
     "execution_count": 15,
     "metadata": {},
     "output_type": "execute_result"
    }
   ],
   "source": [
    "####공백 없이\n",
    "'python' + 'is easy'"
   ]
  },
  {
   "cell_type": "code",
   "execution_count": 17,
   "metadata": {},
   "outputs": [
    {
     "name": "stdout",
     "output_type": "stream",
     "text": [
      "python is easy\n",
      "python is easy\n",
      "python is esay\n"
     ]
    }
   ],
   "source": [
    "####공백 있이\n",
    "print('python ' + 'is easy')\n",
    "print('python' + ' is easy')\n",
    "print('python'+\" \"+\"is esay\")"
   ]
  },
  {
   "cell_type": "markdown",
   "metadata": {},
   "source": [
    "- 특정 문자 찾기 index[]"
   ]
  },
  {
   "cell_type": "code",
   "execution_count": 18,
   "metadata": {},
   "outputs": [
    {
     "data": {
      "text/plain": [
       "'h'"
      ]
     },
     "execution_count": 18,
     "metadata": {},
     "output_type": "execute_result"
    }
   ],
   "source": [
    "temp = 'python is easy'\n",
    "temp[3]"
   ]
  },
  {
   "cell_type": "markdown",
   "metadata": {},
   "source": [
    "- 문자열 찾기 silce[:]"
   ]
  },
  {
   "cell_type": "code",
   "execution_count": 21,
   "metadata": {},
   "outputs": [
    {
     "name": "stdout",
     "output_type": "stream",
     "text": [
      "pytho\n",
      "pytho\n"
     ]
    }
   ],
   "source": [
    "#### slice[:]\n",
    "print(temp[0:5])\n",
    "print(temp[:5])"
   ]
  },
  {
   "cell_type": "markdown",
   "metadata": {},
   "source": [
    "- 문자열의 나누기 split()"
   ]
  },
  {
   "cell_type": "code",
   "execution_count": 22,
   "metadata": {},
   "outputs": [
    {
     "data": {
      "text/plain": [
       "['python', 'is', 'easy']"
      ]
     },
     "execution_count": 22,
     "metadata": {},
     "output_type": "execute_result"
    }
   ],
   "source": [
    "#### split()\n",
    "temp = 'python is easy'\n",
    "temp.split()"
   ]
  },
  {
   "cell_type": "code",
   "execution_count": 24,
   "metadata": {},
   "outputs": [
    {
     "data": {
      "text/plain": [
       "['python', 'java', 'R', 'SAS']"
      ]
     },
     "execution_count": 24,
     "metadata": {},
     "output_type": "execute_result"
    }
   ],
   "source": [
    "temp2 = 'python,java,R,SAS'\n",
    "temp2.split(\",\")"
   ]
  },
  {
   "cell_type": "markdown",
   "metadata": {},
   "source": [
    "- 문자열의 합치기"
   ]
  },
  {
   "cell_type": "code",
   "execution_count": 25,
   "metadata": {},
   "outputs": [
    {
     "data": {
      "text/plain": [
       "'python,java,R,SAS'"
      ]
     },
     "execution_count": 25,
     "metadata": {},
     "output_type": "execute_result"
    }
   ],
   "source": [
    "#### join()\n",
    "temp2 = ['python', 'java', 'R', 'SAS']\n",
    "','.join(temp2)"
   ]
  },
  {
   "cell_type": "markdown",
   "metadata": {},
   "source": [
    "# Section 2 : 데이터 구조 - 리스트, 튜플, 딕셔너리\n",
    "## Section2.1 : 리스트"
   ]
  },
  {
   "cell_type": "markdown",
   "metadata": {},
   "source": [
    "- 리스트 생성하기 list()"
   ]
  },
  {
   "cell_type": "code",
   "execution_count": 26,
   "metadata": {},
   "outputs": [
    {
     "name": "stdout",
     "output_type": "stream",
     "text": [
      "['one', 'two', 'three', 'four']\n"
     ]
    }
   ],
   "source": [
    "####리스트 생성\n",
    "number = ['one', 'two', 'three', 'four']\n",
    "print(number)"
   ]
  },
  {
   "cell_type": "markdown",
   "metadata": {},
   "source": [
    "-  리스트 구조로 변환하기 list()"
   ]
  },
  {
   "cell_type": "code",
   "execution_count": 27,
   "metadata": {},
   "outputs": [
    {
     "name": "stdout",
     "output_type": "stream",
     "text": [
      "('one', 'two', 'three', 'four')\n"
     ]
    },
    {
     "data": {
      "text/plain": [
       "['one', 'two', 'three', 'four']"
      ]
     },
     "execution_count": 27,
     "metadata": {},
     "output_type": "execute_result"
    }
   ],
   "source": [
    "####리스트 구조로 변환\n",
    "number_tuple = ('one', 'two', 'three', 'four')\n",
    "print(number_tuple)\n",
    "list(number_tuple)"
   ]
  },
  {
   "cell_type": "code",
   "execution_count": 29,
   "metadata": {},
   "outputs": [
    {
     "name": "stdout",
     "output_type": "stream",
     "text": [
      "two\n",
      "['three', 'four']\n"
     ]
    }
   ],
   "source": [
    "number = ['one', 'two', 'three', 'four']\n",
    "print(number[1])\n",
    "print(number[2:4])"
   ]
  },
  {
   "cell_type": "markdown",
   "metadata": {},
   "source": [
    "- 특정 값 변화 index[]"
   ]
  },
  {
   "cell_type": "code",
   "execution_count": 31,
   "metadata": {},
   "outputs": [
    {
     "name": "stdout",
     "output_type": "stream",
     "text": [
      "['first', 'two', 'three', 'four']\n"
     ]
    }
   ],
   "source": [
    "####리스트값 변환\n",
    "number[0] = 'first'\n",
    "print(number)"
   ]
  },
  {
   "cell_type": "markdown",
   "metadata": {},
   "source": [
    "- 리스트 값 추가와 삭제 append(), del, remove()"
   ]
  },
  {
   "cell_type": "code",
   "execution_count": 32,
   "metadata": {},
   "outputs": [
    {
     "name": "stdout",
     "output_type": "stream",
     "text": [
      "['first', 'two', 'three', 'four', 'five']\n"
     ]
    }
   ],
   "source": [
    "####append()\n",
    "number.append('five')\n",
    "print(number)"
   ]
  },
  {
   "cell_type": "code",
   "execution_count": 34,
   "metadata": {},
   "outputs": [
    {
     "name": "stdout",
     "output_type": "stream",
     "text": [
      "['one', 'three', 'four']\n"
     ]
    }
   ],
   "source": [
    "number = ['one', 'two', 'three', 'four']\n",
    "del number[1]\n",
    "print(number)"
   ]
  },
  {
   "cell_type": "code",
   "execution_count": 35,
   "metadata": {},
   "outputs": [
    {
     "data": {
      "text/plain": [
       "['one', 'four']"
      ]
     },
     "execution_count": 35,
     "metadata": {},
     "output_type": "execute_result"
    }
   ],
   "source": [
    "#### remove()\n",
    "number.remove('three')\n",
    "number"
   ]
  },
  {
   "cell_type": "markdown",
   "metadata": {},
   "source": [
    "- 리스트 병합 extend()"
   ]
  },
  {
   "cell_type": "code",
   "execution_count": 36,
   "metadata": {},
   "outputs": [
    {
     "data": {
      "text/plain": [
       "['one', 'two', 'three', 'four', 'six', 'seven', 'eight', 'nine']"
      ]
     },
     "execution_count": 36,
     "metadata": {},
     "output_type": "execute_result"
    }
   ],
   "source": [
    "#### extend()\n",
    "number1 = ['one', 'two', 'three', 'four']\n",
    "number2 = ['six', 'seven', 'eight', 'nine']\n",
    "number1.extend(number2)\n",
    "number1"
   ]
  },
  {
   "cell_type": "markdown",
   "metadata": {},
   "source": [
    "- 정렬하기 sort(), sorted()"
   ]
  },
  {
   "cell_type": "code",
   "execution_count": 37,
   "metadata": {},
   "outputs": [
    {
     "name": "stdout",
     "output_type": "stream",
     "text": [
      "['one', 'two', 'three', 'four']\n",
      "['four', 'one', 'three', 'two']\n"
     ]
    }
   ],
   "source": [
    "number = ['one', 'two', 'three', 'four']\n",
    "newnumber = sorted(number)\n",
    "print(number)\n",
    "print(newnumber)"
   ]
  },
  {
   "cell_type": "code",
   "execution_count": 38,
   "metadata": {},
   "outputs": [
    {
     "name": "stdout",
     "output_type": "stream",
     "text": [
      "['four', 'one', 'three', 'two']\n"
     ]
    }
   ],
   "source": [
    "### sort()\n",
    "number.sort()\n",
    "print(number)"
   ]
  },
  {
   "cell_type": "markdown",
   "metadata": {},
   "source": [
    "- 정렬하기 sort()"
   ]
  },
  {
   "cell_type": "code",
   "execution_count": 39,
   "metadata": {},
   "outputs": [
    {
     "name": "stdout",
     "output_type": "stream",
     "text": [
      "[4, 3, 2, 1]\n"
     ]
    }
   ],
   "source": [
    "#### sort(reverse = True)\n",
    "number = [1,2,3,4]\n",
    "number.sort(reverse = True)\n",
    "print(number)"
   ]
  },
  {
   "cell_type": "markdown",
   "metadata": {},
   "source": [
    "- 항목 개수 len()"
   ]
  },
  {
   "cell_type": "code",
   "execution_count": 40,
   "metadata": {},
   "outputs": [
    {
     "data": {
      "text/plain": [
       "4"
      ]
     },
     "execution_count": 40,
     "metadata": {},
     "output_type": "execute_result"
    }
   ],
   "source": [
    "number = ['one', 'two', 'three', 'four']\n",
    "len(number)"
   ]
  },
  {
   "cell_type": "markdown",
   "metadata": {},
   "source": [
    "## Section 2.2 : 튜플"
   ]
  },
  {
   "cell_type": "markdown",
   "metadata": {},
   "source": [
    "- 튜플 생성하기 tuple()"
   ]
  },
  {
   "cell_type": "code",
   "execution_count": 41,
   "metadata": {},
   "outputs": [
    {
     "name": "stdout",
     "output_type": "stream",
     "text": [
      "(1, 2, 3, 4)\n"
     ]
    },
    {
     "data": {
      "text/plain": [
       "tuple"
      ]
     },
     "execution_count": 41,
     "metadata": {},
     "output_type": "execute_result"
    }
   ],
   "source": [
    "####tuple()\n",
    "number = (1,2,3,4)\n",
    "print(number)\n",
    "type(number)"
   ]
  },
  {
   "cell_type": "markdown",
   "metadata": {},
   "source": [
    "# Section 2.3 : 딕셔너리"
   ]
  },
  {
   "cell_type": "markdown",
   "metadata": {},
   "source": [
    "- 딕셔너리 구조로 변환하기 dict()"
   ]
  },
  {
   "cell_type": "code",
   "execution_count": 43,
   "metadata": {},
   "outputs": [
    {
     "name": "stdout",
     "output_type": "stream",
     "text": [
      "{'apple': 3500, 'peer': 2500, 'cherry': 5000}\n"
     ]
    }
   ],
   "source": [
    "#### dict()\n",
    "fruit_price = [['apple', 3500], ['peer', 2500], ['cherry', 5000]]\n",
    "fruit_price = dict(fruit_price)\n",
    "print(fruit_price)"
   ]
  },
  {
   "cell_type": "markdown",
   "metadata": {},
   "source": [
    "- 키 변환하기 keys()"
   ]
  },
  {
   "cell_type": "code",
   "execution_count": 44,
   "metadata": {},
   "outputs": [
    {
     "data": {
      "text/plain": [
       "dict_keys(['apple', 'peer', 'cherry'])"
      ]
     },
     "execution_count": 44,
     "metadata": {},
     "output_type": "execute_result"
    }
   ],
   "source": [
    "#### keys()\n",
    "fruit_price = {'apple': 3500, 'peer': 2500, 'cherry': 5000}\n",
    "fruit_price.keys()"
   ]
  },
  {
   "cell_type": "markdown",
   "metadata": {},
   "source": [
    "- 항목 반환하기 index[]"
   ]
  },
  {
   "cell_type": "code",
   "execution_count": 46,
   "metadata": {},
   "outputs": [
    {
     "data": {
      "text/plain": [
       "2500"
      ]
     },
     "execution_count": 46,
     "metadata": {},
     "output_type": "execute_result"
    }
   ],
   "source": [
    "#### index()\n",
    "fruit_price['peer']"
   ]
  },
  {
   "cell_type": "code",
   "execution_count": 49,
   "metadata": {},
   "outputs": [
    {
     "name": "stdout",
     "output_type": "stream",
     "text": [
      "['mina', 'jane', 'mark']\n",
      "['mina', 'jane', 'mark']\n"
     ]
    }
   ],
   "source": [
    "#### index()\n",
    "school_class = {1:['mina', 'jane', 'mark'],\n",
    "               2 : ['peter', 'pay', 'parker'],\n",
    "               3 : ['pay', 'joy', 'conan']}\n",
    "print(school_class.get(1))\n",
    "print(school_class[1])"
   ]
  },
  {
   "cell_type": "markdown",
   "metadata": {},
   "source": [
    "- 딕셔너리 병합 update()"
   ]
  },
  {
   "cell_type": "code",
   "execution_count": 51,
   "metadata": {},
   "outputs": [
    {
     "name": "stdout",
     "output_type": "stream",
     "text": [
      "{'apple': 3500, 'peer': 2500, 'cherry': 5000, 'banana': 3200, 'grape': 2000}\n"
     ]
    }
   ],
   "source": [
    "#### update()\n",
    "fruit_price = {'apple': 3500, 'peer': 2500, 'cherry': 5000}\n",
    "others = {'banana':3200, 'grape':2000}\n",
    "fruit_price.update(others)\n",
    "print(fruit_price)"
   ]
  },
  {
   "cell_type": "code",
   "execution_count": 52,
   "metadata": {},
   "outputs": [
    {
     "data": {
      "text/plain": [
       "{1: ['mina', 'jane', 'mark'],\n",
       " 2: ['peter', 'pay', 'parker'],\n",
       " 3: ['pay', 'joy', 'conan']}"
      ]
     },
     "execution_count": 52,
     "metadata": {},
     "output_type": "execute_result"
    }
   ],
   "source": [
    "#### update() - 리스트 항목\n",
    "school_class = {1:['mina', 'jane', 'mark'],\n",
    "               2 : ['peter', 'pay', 'parker']}\n",
    "other_class = {3 : ['pay', 'joy', 'conan']}\n",
    "school_class.update(other_class)\n",
    "school_class"
   ]
  },
  {
   "cell_type": "code",
   "execution_count": 53,
   "metadata": {},
   "outputs": [
    {
     "data": {
      "text/plain": [
       "{1: ['mina', 'jane', 'mark'],\n",
       " 2: ['peter', 'pay', 'parker'],\n",
       " 3: ['pay', 'joy', 'conan']}"
      ]
     },
     "execution_count": 53,
     "metadata": {},
     "output_type": "execute_result"
    }
   ],
   "source": [
    "school_class = {1:['mina', 'jane', 'mark'],\n",
    "               2 : ['peter', 'pay', 'parker']}\n",
    "school_class[3] = ['pay', 'joy', 'conan']\n",
    "school_class"
   ]
  },
  {
   "cell_type": "markdown",
   "metadata": {},
   "source": [
    "- 삭제하기 del"
   ]
  },
  {
   "cell_type": "code",
   "execution_count": 54,
   "metadata": {},
   "outputs": [
    {
     "name": "stdout",
     "output_type": "stream",
     "text": [
      "{'peer': 2500, 'cherry': 5000}\n"
     ]
    }
   ],
   "source": [
    "#### del\n",
    "fruit_price = {'apple': 3500, 'peer': 2500, 'cherry': 5000}\n",
    "del fruit_price['apple']\n",
    "print(fruit_price)"
   ]
  },
  {
   "cell_type": "code",
   "execution_count": 57,
   "metadata": {},
   "outputs": [
    {
     "data": {
      "text/plain": [
       "{1: ['mina', 'jane', 'mark'], 2: ['peter', 'pay', 'parker']}"
      ]
     },
     "execution_count": 57,
     "metadata": {},
     "output_type": "execute_result"
    }
   ],
   "source": [
    "#### del - 리스트 항목\n",
    "school_class = {1:['mina', 'jane', 'mark'],\n",
    "               2 : ['peter', 'pay', 'parker'],\n",
    "               3 : ['pay', 'joy', 'conan']}\n",
    "del school_class[3]\n",
    "school_class"
   ]
  },
  {
   "cell_type": "markdown",
   "metadata": {},
   "source": [
    "# Section 3 : 조건문과 반목문\n",
    "## Section 3.1 : boolean"
   ]
  },
  {
   "cell_type": "markdown",
   "metadata": {},
   "source": [
    "- boolean 데이터 타입"
   ]
  },
  {
   "cell_type": "code",
   "execution_count": 58,
   "metadata": {},
   "outputs": [
    {
     "data": {
      "text/plain": [
       "bool"
      ]
     },
     "execution_count": 58,
     "metadata": {},
     "output_type": "execute_result"
    }
   ],
   "source": [
    "#### boolean\n",
    "python = True\n",
    "type(python)"
   ]
  },
  {
   "cell_type": "markdown",
   "metadata": {},
   "source": [
    "## Section 3.2 : 조건문 if, elif, else"
   ]
  },
  {
   "cell_type": "markdown",
   "metadata": {},
   "source": [
    "- If 문"
   ]
  },
  {
   "cell_type": "code",
   "execution_count": 59,
   "metadata": {},
   "outputs": [
    {
     "name": "stdout",
     "output_type": "stream",
     "text": [
      "조건문이 참입니다.\n"
     ]
    }
   ],
   "source": [
    "#### if\n",
    "python = True\n",
    "if(python) :\n",
    "    print(\"조건문이 참입니다.\")"
   ]
  },
  {
   "cell_type": "markdown",
   "metadata": {},
   "source": [
    "- else 문"
   ]
  },
  {
   "cell_type": "code",
   "execution_count": 60,
   "metadata": {},
   "outputs": [
    {
     "name": "stdout",
     "output_type": "stream",
     "text": [
      "조건문이 참이 아닙니다.\n"
     ]
    }
   ],
   "source": [
    "#### else\n",
    "python = False\n",
    "if(python) :\n",
    "    print('조건문이 참입니다.')\n",
    "else:\n",
    "    print('조건문이 참이 아닙니다.')"
   ]
  },
  {
   "cell_type": "markdown",
   "metadata": {},
   "source": [
    "- elif 문"
   ]
  },
  {
   "cell_type": "code",
   "execution_count": 62,
   "metadata": {},
   "outputs": [
    {
     "name": "stdout",
     "output_type": "stream",
     "text": [
      "첫번째 조건문은 참이 아니고 두번째 조건문은 참입니다.\n"
     ]
    }
   ],
   "source": [
    "#### elif\n",
    "python = False\n",
    "pycharm = True\n",
    "if(python):\n",
    "    print(\"첫번째 조건문이 참입니다.\")\n",
    "elif (pycharm):\n",
    "    print(\"첫번째 조건문은 참이 아니고 두번째 조건문은 참입니다.\")\n",
    "else:\n",
    "    print(\"조건문이 참이 아닙니다.\")"
   ]
  },
  {
   "cell_type": "markdown",
   "metadata": {},
   "source": [
    "## Section 3.3 : 반복문 for"
   ]
  },
  {
   "cell_type": "markdown",
   "metadata": {},
   "source": [
    "- for 문"
   ]
  },
  {
   "cell_type": "code",
   "execution_count": 63,
   "metadata": {},
   "outputs": [
    {
     "name": "stdout",
     "output_type": "stream",
     "text": [
      "1\n",
      "2\n",
      "3\n",
      "4\n",
      "5\n",
      "6\n",
      "7\n",
      "8\n",
      "9\n"
     ]
    }
   ],
   "source": [
    "#### for\n",
    "for i in range(1,10):\n",
    "    print(i)"
   ]
  },
  {
   "cell_type": "markdown",
   "metadata": {},
   "source": [
    "- 리스트 for문"
   ]
  },
  {
   "cell_type": "code",
   "execution_count": 68,
   "metadata": {},
   "outputs": [
    {
     "name": "stdout",
     "output_type": "stream",
     "text": [
      "apple\n",
      "peer\n",
      "cherry\n"
     ]
    }
   ],
   "source": [
    "####리스트 for문\n",
    "fruit = ['apple', 'peer', 'cherry']\n",
    "for i in fruit:\n",
    "    print(i)"
   ]
  },
  {
   "cell_type": "markdown",
   "metadata": {},
   "source": [
    "- 딕셔너리 for문"
   ]
  },
  {
   "cell_type": "code",
   "execution_count": 69,
   "metadata": {},
   "outputs": [
    {
     "name": "stdout",
     "output_type": "stream",
     "text": [
      "apple\n",
      "peer\n",
      "cherry\n"
     ]
    }
   ],
   "source": [
    "#### 딕셔너리 for문 key()\n",
    "fruit_price = {'apple': 3500, 'peer': 2500, 'cherry': 5000}\n",
    "for i in fruit_price.keys():\n",
    "    print(i)"
   ]
  },
  {
   "cell_type": "code",
   "execution_count": 70,
   "metadata": {},
   "outputs": [
    {
     "name": "stdout",
     "output_type": "stream",
     "text": [
      "3500\n",
      "2500\n",
      "5000\n"
     ]
    }
   ],
   "source": [
    "#### 딕셔너리 for문 values()\n",
    "#### 딕셔너리 for문 key()\n",
    "fruit_price = {'apple': 3500, 'peer': 2500, 'cherry': 5000}\n",
    "for i in fruit_price.values():\n",
    "    print(i)"
   ]
  },
  {
   "cell_type": "code",
   "execution_count": 71,
   "metadata": {},
   "outputs": [
    {
     "name": "stdout",
     "output_type": "stream",
     "text": [
      "('apple', 3500)\n",
      "('peer', 2500)\n",
      "('cherry', 5000)\n"
     ]
    }
   ],
   "source": [
    "#### 딕셔너리 for문 values()\n",
    "#### 딕셔너리 for문 key()\n",
    "fruit_price = {'apple': 3500, 'peer': 2500, 'cherry': 5000}\n",
    "for i in fruit_price.items():\n",
    "    print(i)"
   ]
  },
  {
   "cell_type": "markdown",
   "metadata": {},
   "source": [
    "- for문 활용"
   ]
  },
  {
   "cell_type": "code",
   "execution_count": 73,
   "metadata": {},
   "outputs": [
    {
     "name": "stdout",
     "output_type": "stream",
     "text": [
      "['apple', 'cherry']\n",
      "['peer']\n"
     ]
    }
   ],
   "source": [
    "#### for문의 활용\n",
    "high_price = []\n",
    "low_price = []\n",
    "fruit_price = {'apple': 3500, 'peer': 2500, 'cherry': 5000}\n",
    "for item in fruit_price.items():\n",
    "    if item[1] > 3000:\n",
    "        high_price.append(item[0])\n",
    "    else:\n",
    "        low_price.append(item[0])\n",
    "print(high_price)\n",
    "print(low_price)"
   ]
  },
  {
   "cell_type": "markdown",
   "metadata": {},
   "source": [
    "# 데이터 입출력\n",
    "## Section 3.1 : 데이터 출력"
   ]
  },
  {
   "cell_type": "markdown",
   "metadata": {},
   "source": [
    "- txt 파일 출력"
   ]
  },
  {
   "cell_type": "code",
   "execution_count": 76,
   "metadata": {},
   "outputs": [],
   "source": [
    "#### print() 데이터 출력 - txt\n",
    "fruit = open('./fruit.txt',mode = 'wt')\n",
    "fruit_price = {'apple': 3500, 'peer': 2500, 'cherry': 5000}\n",
    "for item in fruit_price.items():\n",
    "    print(item, file = fruit)\n",
    "fruit.close()"
   ]
  },
  {
   "cell_type": "code",
   "execution_count": 77,
   "metadata": {},
   "outputs": [],
   "source": [
    "### write() 데이터 출력 - txt\n",
    "fruit = open('./fruit2.txt', mode = 'wt')\n",
    "fruit.write(\"apple 3500\\n\")\n",
    "fruit.write(\"peer 2500\\n\")\n",
    "fruit.write(\"cherr 5000\\n\")\n",
    "fruit.close()"
   ]
  },
  {
   "cell_type": "markdown",
   "metadata": {},
   "source": [
    "- csv 파일 출력"
   ]
  },
  {
   "cell_type": "code",
   "execution_count": 78,
   "metadata": {},
   "outputs": [],
   "source": [
    "#### write() 데이터 출력 - csv\n",
    "import csv\n",
    "with open('./fruit.csv', 'w', newline='') as fruit:\n",
    "    writer = csv.writer(fruit, delimiter = ',')\n",
    "    writer.writerow(['apple'])\n",
    "    writer.writerow(['peer'])\n",
    "    writer.writerow(['cherry'])\n",
    "    writer.writerow(['banana'])\n",
    "    writer.writerow(['peach'])"
   ]
  },
  {
   "cell_type": "markdown",
   "metadata": {},
   "source": [
    "## Section 3.2 : 데이터 입력"
   ]
  },
  {
   "cell_type": "markdown",
   "metadata": {},
   "source": [
    "- txt 파일 입력"
   ]
  },
  {
   "cell_type": "code",
   "execution_count": 79,
   "metadata": {},
   "outputs": [
    {
     "data": {
      "text/plain": [
       "<_io.TextIOWrapper name='./fruit.txt' mode='rt' encoding='cp949'>"
      ]
     },
     "execution_count": 79,
     "metadata": {},
     "output_type": "execute_result"
    }
   ],
   "source": [
    "#### open(), read 데이터 입력 - txt\n",
    "fruit_path = open('./fruit.txt', 'rt')\n",
    "fruit_path"
   ]
  },
  {
   "cell_type": "code",
   "execution_count": 80,
   "metadata": {},
   "outputs": [
    {
     "name": "stdout",
     "output_type": "stream",
     "text": [
      "[\"('apple', 3500)\\n\", \"('peer', 2500)\\n\", \"('cherry', 5000)\\n\"]\n"
     ]
    }
   ],
   "source": [
    "fruit = fruit_path.readlines()\n",
    "print(fruit)"
   ]
  },
  {
   "cell_type": "markdown",
   "metadata": {},
   "source": [
    "- CSV 파일 입력"
   ]
  },
  {
   "cell_type": "code",
   "execution_count": 117,
   "metadata": {},
   "outputs": [
    {
     "data": {
      "text/plain": [
       "<_csv.reader at 0x1f3b948d250>"
      ]
     },
     "execution_count": 117,
     "metadata": {},
     "output_type": "execute_result"
    }
   ],
   "source": [
    "import csv\n",
    "f = open('./fruit.csv', mode = 'rt')\n",
    "csvRead= csv.reader(f)\n",
    "csvRead"
   ]
  },
  {
   "cell_type": "code",
   "execution_count": 118,
   "metadata": {},
   "outputs": [
    {
     "name": "stdout",
     "output_type": "stream",
     "text": [
      "['apple']\n",
      "['peer']\n",
      "['cherry']\n",
      "['banana']\n",
      "['peach']\n"
     ]
    }
   ],
   "source": [
    "fruit = []\n",
    "for i in csvRead:\n",
    "    fruit.append(csvRead)\n",
    "    print(i)"
   ]
  }
 ],
 "metadata": {
  "kernelspec": {
   "display_name": "Python 3",
   "language": "python",
   "name": "python3"
  },
  "language_info": {
   "codemirror_mode": {
    "name": "ipython",
    "version": 3
   },
   "file_extension": ".py",
   "mimetype": "text/x-python",
   "name": "python",
   "nbconvert_exporter": "python",
   "pygments_lexer": "ipython3",
   "version": "3.7.3"
  }
 },
 "nbformat": 4,
 "nbformat_minor": 2
}
